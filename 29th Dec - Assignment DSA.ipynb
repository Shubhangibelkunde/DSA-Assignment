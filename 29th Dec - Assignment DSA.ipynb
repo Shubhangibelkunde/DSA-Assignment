{
 "cells": [
  {
   "cell_type": "code",
   "execution_count": 1,
   "id": "ff7dcaa2",
   "metadata": {},
   "outputs": [],
   "source": [
    "# 1. Reverse a singly linked list.\n",
    "\n",
    "# Input: 1 -> 2 -> 3 -> 4 -> 5\n",
    "# Output: 5 -> 4 -> 3 -> 2 -> 1"
   ]
  },
  {
   "cell_type": "code",
   "execution_count": 2,
   "id": "46077175",
   "metadata": {},
   "outputs": [
    {
     "name": "stdout",
     "output_type": "stream",
     "text": [
      "5 -> 4 -> 3 -> 2 -> 1 -> None\n"
     ]
    }
   ],
   "source": [
    "class ListNode:\n",
    "  def __init__(self, val=0, next=None):\n",
    "    self.val = val\n",
    "    self.next = next\n",
    "\n",
    "def reverseList(head):\n",
    "  if not head or not head.next:\n",
    "    return head\n",
    "  new_head = reverseList(head.next)\n",
    "  head.next.next = head\n",
    "  head.next = None\n",
    "  return new_head\n",
    "\n",
    "head = ListNode(1, ListNode(2, ListNode(3, ListNode(4, ListNode(5)))))\n",
    "reversed_head = reverseList(head)\n",
    "\n",
    "while reversed_head:\n",
    "  print(reversed_head.val, end=\" -> \")\n",
    "  reversed_head = reversed_head.next\n",
    "print(\"None\")"
   ]
  },
  {
   "cell_type": "code",
   "execution_count": 3,
   "id": "35e90b77",
   "metadata": {},
   "outputs": [],
   "source": [
    "# 2: Merge two sorted linked lists into one sorted linked list.\n",
    "\n",
    "# Input: List 1: 1 -> 3 -> 5, List 2: 2 -> 4 -> 6\n",
    "# Output: 1 -> 2 -> 3 -> 4 -> 5 -> 6"
   ]
  },
  {
   "cell_type": "code",
   "execution_count": 4,
   "id": "d71fb2e3",
   "metadata": {},
   "outputs": [
    {
     "name": "stdout",
     "output_type": "stream",
     "text": [
      "1 -> 2 -> 3 -> 4 -> 5 -> 6 -> "
     ]
    }
   ],
   "source": [
    "class ListNode:\n",
    "    def __init__(self, val=0, next=None):\n",
    "        self.val = val\n",
    "        self.next = next\n",
    "\n",
    "def merge_sorted_lists(l1, l2):\n",
    "    dummy = ListNode()\n",
    "    current = dummy\n",
    "    \n",
    "    while l1 and l2:\n",
    "        if l1.val < l2.val:\n",
    "            current.next = l1\n",
    "            l1 = l1.next\n",
    "        else:\n",
    "            current.next = l2\n",
    "            l2 = l2.next\n",
    "        current = current.next\n",
    "    \n",
    "    current.next = l1 if l1 else l2\n",
    "    \n",
    "    return dummy.next\n",
    "\n",
    "\n",
    "list1 = ListNode(1)\n",
    "list1.next = ListNode(3)\n",
    "list1.next.next = ListNode(5)\n",
    "\n",
    "list2 = ListNode(2)\n",
    "list2.next = ListNode(4)\n",
    "list2.next.next = ListNode(6)\n",
    "\n",
    "\n",
    "merged_list = merge_sorted_lists(list1, list2)\n",
    "\n",
    "while merged_list:\n",
    "    print(merged_list.val, end=\" -> \")\n",
    "    merged_list = merged_list.next\n"
   ]
  },
  {
   "cell_type": "code",
   "execution_count": 5,
   "id": "4fe50df2",
   "metadata": {},
   "outputs": [],
   "source": [
    "# 3: Remove the nth node from the end of a linked list.\n",
    "    \n",
    "# Input: 1 -> 2 -> 3 -> 4 -> 5, n = 2\n",
    "# Output: 1 -> 2 -> 3 -> 5"
   ]
  },
  {
   "cell_type": "code",
   "execution_count": 6,
   "id": "fb46e255",
   "metadata": {},
   "outputs": [
    {
     "name": "stdout",
     "output_type": "stream",
     "text": [
      "1 -> 2 -> 3 -> 5 -> None\n"
     ]
    }
   ],
   "source": [
    "class ListNode:\n",
    "  def __init__(self, val=0, next=None):\n",
    "    self.val = val\n",
    "    self.next = next\n",
    "\n",
    "def removeNthFromEnd(head, n):\n",
    "\n",
    "  if not head or (n == 0 and head.next == None):\n",
    "    return None  \n",
    "\n",
    "  fast = head\n",
    "  for _ in range(n):\n",
    "    if not fast:\n",
    "      return head  \n",
    "    fast = fast.next\n",
    "\n",
    "  slow = head\n",
    "  prev = None\n",
    "  while fast:\n",
    "    prev = slow\n",
    "    slow = slow.next\n",
    "    fast = fast.next\n",
    "\n",
    "  if prev:\n",
    "    prev.next = slow.next\n",
    "  else:\n",
    "    head = head.next\n",
    "  return head\n",
    "\n",
    "head = ListNode(1, ListNode(2, ListNode(3, ListNode(4, ListNode(5)))))\n",
    "new_head = removeNthFromEnd(head, 2)\n",
    "\n",
    "while new_head:\n",
    "  print(new_head.val, end=\" -> \")\n",
    "  new_head = new_head.next\n",
    "print(\"None\")"
   ]
  },
  {
   "cell_type": "code",
   "execution_count": 7,
   "id": "c4fc1e00",
   "metadata": {},
   "outputs": [],
   "source": [
    "# 4: Find the intersection point of two linked lists.\n",
    "    \n",
    "# Input: List 1: 1 -> 2 -> 3 -> 4, List 2: 9 -> 8 -> 3 -> 4\n",
    "# Output: Node with value 3"
   ]
  },
  {
   "cell_type": "code",
   "execution_count": 8,
   "id": "db1343e0",
   "metadata": {},
   "outputs": [
    {
     "name": "stdout",
     "output_type": "stream",
     "text": [
      "Intersection Node: 4\n"
     ]
    }
   ],
   "source": [
    "class ListNode:\n",
    "    def __init__(self, val=0, next=None):\n",
    "        self.val = val\n",
    "        self.next = next\n",
    "\n",
    "def get_intersection_node(headA, headB):\n",
    "    def get_length(node):\n",
    "        length = 0\n",
    "        while node:\n",
    "            length += 1\n",
    "            node = node.next\n",
    "        return length\n",
    "    \n",
    "    length_A = get_length(headA)\n",
    "    length_B = get_length(headB)\n",
    "    \n",
    "    while length_A > length_B:\n",
    "        headA = headA.next\n",
    "        length_A -= 1\n",
    "    \n",
    "    while length_B > length_A:\n",
    "        headB = headB.next\n",
    "        length_B -= 1\n",
    "    \n",
    "    while headA != headB:\n",
    "        headA = headA.next\n",
    "        headB = headB.next\n",
    "    \n",
    "    return headA\n",
    "\n",
    "\n",
    "list1 = ListNode(1)\n",
    "list1.next = ListNode(2)\n",
    "list1.next.next = ListNode(3)\n",
    "list1.next.next.next = ListNode(4)\n",
    "\n",
    "list2 = ListNode(9)\n",
    "list2.next = ListNode(8)\n",
    "list2.next.next = list1.next.next.next  \n",
    "\n",
    "intersection_node = get_intersection_node(list1, list2)\n",
    "\n",
    "if intersection_node:\n",
    "    print(\"Intersection Node:\", intersection_node.val)\n",
    "else:\n",
    "    print(\"No intersection found.\")\n"
   ]
  },
  {
   "cell_type": "code",
   "execution_count": 9,
   "id": "ef8acaa5",
   "metadata": {},
   "outputs": [],
   "source": [
    "# 5: Remove duplicates from a sorted linked list.\n",
    "    \n",
    "# Input: 1 -> 1 -> 2 -> 3 -> 3\n",
    "# Output: 1 -> 2 -> 3"
   ]
  },
  {
   "cell_type": "code",
   "execution_count": 10,
   "id": "27bb4eb8",
   "metadata": {},
   "outputs": [
    {
     "name": "stdout",
     "output_type": "stream",
     "text": [
      "Original Linked List:\n",
      "1 1 2 3 3 \n",
      "Linked List after removing duplicates:\n",
      "1 2 3 \n"
     ]
    }
   ],
   "source": [
    "class ListNode:\n",
    "    def __init__(self, val=0, next=None):\n",
    "        self.val = val\n",
    "        self.next = next\n",
    "\n",
    "def deleteDuplicates(head):\n",
    "    current = head\n",
    "    while current and current.next:\n",
    "        if current.val == current.next.val:\n",
    "            current.next = current.next.next\n",
    "        else:\n",
    "            current = current.next\n",
    "    return head\n",
    "\n",
    "def printList(node):\n",
    "    while node:\n",
    "        print(node.val, end=\" \")\n",
    "        node = node.next\n",
    "    print()\n",
    "\n",
    "if __name__ == \"__main__\":\n",
    "    head = ListNode(1)\n",
    "    head.next = ListNode(1)\n",
    "    head.next.next = ListNode(2)\n",
    "    head.next.next.next = ListNode(3)\n",
    "    head.next.next.next.next = ListNode(3)\n",
    "\n",
    "    print(\"Original Linked List:\")\n",
    "    printList(head)\n",
    "\n",
    "    head = deleteDuplicates(head)\n",
    "\n",
    "    print(\"Linked List after removing duplicates:\")\n",
    "    printList(head)\n"
   ]
  },
  {
   "cell_type": "code",
   "execution_count": 11,
   "id": "65bbc475",
   "metadata": {},
   "outputs": [],
   "source": [
    "# 6: Add two numbers represented by linked lists (where each node contains a single digit).\n",
    "    \n",
    "# Input: List 1: 2 -> 4 -> 3, List 2: 5 -> 6 -> 4 (represents 342 + 465)\n",
    "# Output: 7 -> 0 -> 8 (represents 807)"
   ]
  },
  {
   "cell_type": "code",
   "execution_count": 12,
   "id": "357759cf",
   "metadata": {},
   "outputs": [
    {
     "name": "stdout",
     "output_type": "stream",
     "text": [
      "List 1:\n",
      "2 4 3 \n",
      "List 2:\n",
      "5 6 4 \n",
      "Sum:\n",
      "7 0 8 \n"
     ]
    }
   ],
   "source": [
    "class ListNode:\n",
    "    def __init__(self, val=0, next=None):\n",
    "        self.val = val\n",
    "        self.next = next\n",
    "\n",
    "def addTwoNumbers(l1, l2):\n",
    "    dummy_head = ListNode(0)\n",
    "    current = dummy_head\n",
    "    carry = 0\n",
    "\n",
    "    while l1 or l2:\n",
    "        x = l1.val if l1 else 0\n",
    "        y = l2.val if l2 else 0\n",
    "        total = x + y + carry\n",
    "        carry = total // 10\n",
    "        current.next = ListNode(total % 10)\n",
    "        current = current.next\n",
    "        if l1: l1 = l1.next\n",
    "        if l2: l2 = l2.next\n",
    "\n",
    "    if carry > 0:\n",
    "        current.next = ListNode(carry)\n",
    "\n",
    "    return dummy_head.next\n",
    "\n",
    "def printList(node):\n",
    "    while node:\n",
    "        print(node.val, end=\" \")\n",
    "        node = node.next\n",
    "    print()\n",
    "\n",
    "if __name__ == \"__main__\":\n",
    "    l1 = ListNode(2)\n",
    "    l1.next = ListNode(4)\n",
    "    l1.next.next = ListNode(3)\n",
    "\n",
    "    l2 = ListNode(5)\n",
    "    l2.next = ListNode(6)\n",
    "    l2.next.next = ListNode(4)\n",
    "\n",
    "    print(\"List 1:\")\n",
    "    printList(l1)\n",
    "\n",
    "    print(\"List 2:\")\n",
    "    printList(l2)\n",
    "\n",
    "    result = addTwoNumbers(l1, l2)\n",
    "\n",
    "    print(\"Sum:\")\n",
    "    printList(result)\n"
   ]
  },
  {
   "cell_type": "code",
   "execution_count": 13,
   "id": "1267e63f",
   "metadata": {},
   "outputs": [],
   "source": [
    "# 7: Swap nodes in pairs in a linked list.\n",
    "    \n",
    "# Input: 1 -> 2 -> 3 -> 4\n",
    "# Output: 2 -> 1 -> 4 -> 3"
   ]
  },
  {
   "cell_type": "code",
   "execution_count": 14,
   "id": "3acd3dae",
   "metadata": {},
   "outputs": [
    {
     "name": "stdout",
     "output_type": "stream",
     "text": [
      "Original Linked List:\n",
      "1 2 3 4 \n",
      "Linked List after swapping pairs:\n",
      "2 1 4 3 \n"
     ]
    }
   ],
   "source": [
    "class ListNode:\n",
    "    def __init__(self, val=0, next=None):\n",
    "        self.val = val\n",
    "        self.next = next\n",
    "\n",
    "def swapPairs(head):\n",
    "    dummy_head = ListNode(0)\n",
    "    dummy_head.next = head\n",
    "    prev = dummy_head\n",
    "\n",
    "    while prev.next and prev.next.next:\n",
    "        first = prev.next\n",
    "        second = prev.next.next\n",
    "\n",
    "        first.next = second.next\n",
    "        second.next = first\n",
    "        prev.next = second\n",
    "\n",
    "        prev = first\n",
    "\n",
    "    return dummy_head.next\n",
    "\n",
    "def printList(node):\n",
    "    while node:\n",
    "        print(node.val, end=\" \")\n",
    "        node = node.next\n",
    "    print()\n",
    "\n",
    "if __name__ == \"__main__\":\n",
    "    head = ListNode(1)\n",
    "    head.next = ListNode(2)\n",
    "    head.next.next = ListNode(3)\n",
    "    head.next.next.next = ListNode(4)\n",
    "\n",
    "    print(\"Original Linked List:\")\n",
    "    printList(head)\n",
    "\n",
    "    swapped_head = swapPairs(head)\n",
    "\n",
    "    print(\"Linked List after swapping pairs:\")\n",
    "    printList(swapped_head)\n"
   ]
  },
  {
   "cell_type": "code",
   "execution_count": 15,
   "id": "ff2f8313",
   "metadata": {},
   "outputs": [],
   "source": [
    "# 8: Reverse nodes in a linked list in groups of k.\n",
    "    \n",
    "# Input: 1 -> 2 -> 3 -> 4 -> 5, k = 3\n",
    "# Output: 3 -> 2 -> 1 -> 4 -> 5"
   ]
  },
  {
   "cell_type": "code",
   "execution_count": 16,
   "id": "350d8fb4",
   "metadata": {},
   "outputs": [
    {
     "name": "stdout",
     "output_type": "stream",
     "text": [
      "Original Linked List:\n",
      "1 2 3 4 5 \n",
      "Linked List after reversing nodes in groups of 3:\n",
      "3 2 1 4 5 \n"
     ]
    }
   ],
   "source": [
    "class ListNode:\n",
    "    def __init__(self, val=0, next=None):\n",
    "        self.val = val\n",
    "        self.next = next\n",
    "\n",
    "def reverseKGroup(head, k):\n",
    "    if not head or k == 1:\n",
    "        return head\n",
    "    \n",
    "    dummy = ListNode(0)\n",
    "    dummy.next = head\n",
    "    prev = dummy\n",
    "    \n",
    "    while prev:\n",
    "        prev = reverseNextK(prev, k)\n",
    "    \n",
    "    return dummy.next\n",
    "\n",
    "def reverseNextK(prev, k):\n",
    "    end = prev\n",
    "    for i in range(k):\n",
    "        end = end.next\n",
    "        if not end:\n",
    "            return None\n",
    "    \n",
    "    start = prev.next\n",
    "    curr = start.next\n",
    "    for _ in range(k - 1):\n",
    "        start.next = curr.next\n",
    "        curr.next = prev.next\n",
    "        prev.next = curr\n",
    "        curr = start.next\n",
    "    \n",
    "    return start\n",
    "\n",
    "def printList(node):\n",
    "    while node:\n",
    "        print(node.val, end=\" \")\n",
    "        node = node.next\n",
    "    print()\n",
    "\n",
    "if __name__ == \"__main__\":\n",
    "    head = ListNode(1)\n",
    "    head.next = ListNode(2)\n",
    "    head.next.next = ListNode(3)\n",
    "    head.next.next.next = ListNode(4)\n",
    "    head.next.next.next.next = ListNode(5)\n",
    "\n",
    "    print(\"Original Linked List:\")\n",
    "    printList(head)\n",
    "\n",
    "    k = 3\n",
    "    reversed_head = reverseKGroup(head, k)\n",
    "\n",
    "    print(f\"Linked List after reversing nodes in groups of {k}:\")\n",
    "    printList(reversed_head)\n"
   ]
  },
  {
   "cell_type": "code",
   "execution_count": 17,
   "id": "41f3e485",
   "metadata": {},
   "outputs": [],
   "source": [
    "# 9: Determine if a linked list is a palindrome.\n",
    "    \n",
    "# Input: 1 -> 2 -> 2 -> 1\n",
    "# Output: True"
   ]
  },
  {
   "cell_type": "code",
   "execution_count": 18,
   "id": "6f6341c3",
   "metadata": {},
   "outputs": [],
   "source": [
    "class ListNode:\n",
    "    def __init__(self, val=0, next=None):\n",
    "        self.val = val\n",
    "        self.next = next\n",
    "\n",
    "class Solution:\n",
    "    def isPalindrome(self, head: ListNode) -> bool:\n",
    "        slow, fast = head, head\n",
    "        while fast and fast.next:\n",
    "            slow = slow.next\n",
    "            fast = fast.next.next\n",
    "\n",
    "        prev = None\n",
    "        while slow:\n",
    "            curr = slow\n",
    "            slow = slow.next\n",
    "            curr.next = prev\n",
    "            prev = curr\n",
    "\n",
    "        while head and prev:\n",
    "            if head.val != prev.val:\n",
    "                return False\n",
    "            head = head.next\n",
    "            prev = prev.next\n",
    "\n",
    "        return True\n"
   ]
  },
  {
   "cell_type": "code",
   "execution_count": 19,
   "id": "3936ba26",
   "metadata": {},
   "outputs": [],
   "source": [
    "# 10: Rotate a linked list to the right by k places.\n",
    "    \n",
    "# Input: 1 -> 2 -> 3 -> 4 -> 5, k = 2\n",
    "# Output: 4 -> 5 -> 1 -> 2 -> 3"
   ]
  },
  {
   "cell_type": "code",
   "execution_count": 20,
   "id": "63c8990a",
   "metadata": {},
   "outputs": [
    {
     "name": "stdout",
     "output_type": "stream",
     "text": [
      "Original Linked List:\n",
      "1 2 3 4 5 \n",
      "Linked List after rotating to the right by 2 places:\n",
      "4 5 1 2 3 \n"
     ]
    }
   ],
   "source": [
    "class ListNode:\n",
    "    def __init__(self, val=0, next=None):\n",
    "        self.val = val\n",
    "        self.next = next\n",
    "\n",
    "def rotateRight(head, k):\n",
    "    if not head or k == 0:\n",
    "        return head\n",
    "    \n",
    "    length = 1\n",
    "    tail = head\n",
    "    while tail.next:\n",
    "        tail = tail.next\n",
    "        length += 1\n",
    "    \n",
    "    k = k % length\n",
    "    \n",
    "    if k == 0:\n",
    "        return head\n",
    "    \n",
    "    new_tail_position = length - k - 1\n",
    "    new_tail = head\n",
    "    for _ in range(new_tail_position):\n",
    "        new_tail = new_tail.next\n",
    "    \n",
    "    new_head = new_tail.next\n",
    "    new_tail.next = None\n",
    "    tail.next = head\n",
    "    \n",
    "    return new_head\n",
    "\n",
    "def printList(node):\n",
    "    while node:\n",
    "        print(node.val, end=\" \")\n",
    "        node = node.next\n",
    "    print()\n",
    "\n",
    "if __name__ == \"__main__\":\n",
    "    head = ListNode(1)\n",
    "    head.next = ListNode(2)\n",
    "    head.next.next = ListNode(3)\n",
    "    head.next.next.next = ListNode(4)\n",
    "    head.next.next.next.next = ListNode(5)\n",
    "\n",
    "    print(\"Original Linked List:\")\n",
    "    printList(head)\n",
    "\n",
    "    k = 2\n",
    "    rotated_head = rotateRight(head, k)\n",
    "\n",
    "    print(f\"Linked List after rotating to the right by {k} places:\")\n",
    "    printList(rotated_head)\n"
   ]
  },
  {
   "cell_type": "code",
   "execution_count": 21,
   "id": "fa8e66b5",
   "metadata": {},
   "outputs": [],
   "source": [
    "# 11: Flatten a multilevel doubly linked list.\n",
    "    \n",
    "# Input: 1 <-> 2 <-> 3 <-> 7 <-> 8 <-> 11 -> 12, 4 <-> 5 -> 9 -> 10, 6 -> 13\n",
    "# Output: 1 <-> 2 <-> 3 <-> 4 <-> 5 <-> 6 <-> 7 <-> 8 <-> 9 <-> 10 <-> 11 <-> 12 <-> 13"
   ]
  },
  {
   "cell_type": "code",
   "execution_count": 22,
   "id": "4158c116",
   "metadata": {},
   "outputs": [
    {
     "name": "stdout",
     "output_type": "stream",
     "text": [
      "Original Multilevel Doubly Linked List:\n",
      "1 2 3 7 8 11 12 \n",
      "Flattened Doubly Linked List:\n",
      "1 2 3 4 5 9 10 7 8 11 6 13 12 \n"
     ]
    }
   ],
   "source": [
    "class Node:\n",
    "    def __init__(self, val=None, prev=None, next=None, child=None):\n",
    "        self.val = val\n",
    "        self.prev = prev\n",
    "        self.next = next\n",
    "        self.child = child\n",
    "\n",
    "def flatten(head):\n",
    "    if not head:\n",
    "        return None\n",
    "    \n",
    "    dummy = Node(0, None, head, None)\n",
    "    current = dummy\n",
    "    \n",
    "    while current.next:\n",
    "        if current.next.child:\n",
    "            child_tail = current.next.child\n",
    "            while child_tail.next:\n",
    "                child_tail = child_tail.next\n",
    "            \n",
    "            child_tail.next = current.next.next\n",
    "            if current.next.next:\n",
    "                current.next.next.prev = child_tail\n",
    "            \n",
    "            current.next.next = current.next.child\n",
    "            current.next.child.prev = current.next\n",
    "            current.next.child = None\n",
    "        \n",
    "        current = current.next\n",
    "    \n",
    "    return dummy.next\n",
    "\n",
    "def printList(head):\n",
    "    current = head\n",
    "    while current:\n",
    "        print(current.val, end=\" \")\n",
    "        current = current.next\n",
    "    print()\n",
    "\n",
    "if __name__ == \"__main__\":\n",
    "    head = Node(1)\n",
    "    head.next = Node(2)\n",
    "    head.next.prev = head\n",
    "    head.next.next = Node(3)\n",
    "    head.next.next.prev = head.next\n",
    "    head.next.next.next = Node(7)\n",
    "    head.next.next.next.prev = head.next.next\n",
    "    head.next.next.next.next = Node(8)\n",
    "    head.next.next.next.next.prev = head.next.next.next\n",
    "    head.next.next.next.next.next = Node(11)\n",
    "    head.next.next.next.next.next.prev = head.next.next.next.next\n",
    "    head.next.next.next.next.next.next = Node(12)\n",
    "    head.next.next.next.next.next.next.prev = head.next.next.next.next.next\n",
    "    head.next.next.child = Node(4)\n",
    "    head.next.next.child.next = Node(5)\n",
    "    head.next.next.child.next.prev = head.next.next.child\n",
    "    head.next.next.child.next.next = Node(9)\n",
    "    head.next.next.child.next.next.prev = head.next.next.child.next\n",
    "    head.next.next.child.next.next.next = Node(10)\n",
    "    head.next.next.child.next.next.next.prev = head.next.next.child.next.next\n",
    "    head.next.next.next.next.next.child = Node(6)\n",
    "    head.next.next.next.next.next.child.next = Node(13)\n",
    "    head.next.next.next.next.next.child.next.prev = head.next.next.next.next.next.child\n",
    "\n",
    "    print(\"Original Multilevel Doubly Linked List:\")\n",
    "    printList(head)\n",
    "\n",
    "    flattened_head = flatten(head)\n",
    "\n",
    "    print(\"Flattened Doubly Linked List:\")\n",
    "    printList(flattened_head)\n"
   ]
  },
  {
   "cell_type": "code",
   "execution_count": 23,
   "id": "5237b13f",
   "metadata": {},
   "outputs": [],
   "source": [
    "# 12: Rearrange a linked list such that all even positioned nodes are placed at the end.\n",
    "    \n",
    "# Input: 1 -> 2 -> 3 -> 4 -> 5\n",
    "# Output: 1 -> 3 -> 5 -> 2 -> 4"
   ]
  },
  {
   "cell_type": "code",
   "execution_count": 24,
   "id": "d9a34b69",
   "metadata": {},
   "outputs": [
    {
     "name": "stdout",
     "output_type": "stream",
     "text": [
      "Original Linked List:\n",
      "1 2 3 4 5 \n",
      "Rearranged Linked List:\n",
      "1 3 5 2 4 \n"
     ]
    }
   ],
   "source": [
    "class ListNode:\n",
    "    def __init__(self, val=0, next=None):\n",
    "        self.val = val\n",
    "        self.next = next\n",
    "\n",
    "def rearrangeLinkedList(head):\n",
    "    if not head or not head.next:\n",
    "        return head\n",
    "\n",
    "    odd_head = head\n",
    "    even_head = head.next\n",
    "    odd_current = odd_head\n",
    "    even_current = even_head\n",
    "\n",
    "    while even_current and even_current.next:\n",
    "        odd_current.next = even_current.next\n",
    "        odd_current = odd_current.next\n",
    "\n",
    "        even_current.next = odd_current.next\n",
    "        even_current = even_current.next\n",
    "\n",
    "    odd_current.next = even_head\n",
    "\n",
    "    return odd_head\n",
    "\n",
    "def printList(node):\n",
    "    while node:\n",
    "        print(node.val, end=\" \")\n",
    "        node = node.next\n",
    "    print()\n",
    "\n",
    "if __name__ == \"__main__\":\n",
    "    head = ListNode(1)\n",
    "    head.next = ListNode(2)\n",
    "    head.next.next = ListNode(3)\n",
    "    head.next.next.next = ListNode(4)\n",
    "    head.next.next.next.next = ListNode(5)\n",
    "\n",
    "    print(\"Original Linked List:\")\n",
    "    printList(head)\n",
    "\n",
    "    rearranged_head = rearrangeLinkedList(head)\n",
    "\n",
    "    print(\"Rearranged Linked List:\")\n",
    "    printList(rearranged_head)\n"
   ]
  },
  {
   "cell_type": "code",
   "execution_count": 25,
   "id": "2ee495ca",
   "metadata": {},
   "outputs": [],
   "source": [
    "# 13: Given a non-negative number represented as a linked list, add one to it.\n",
    "    \n",
    "# Input: 1 -> 2 -> 3 (represents the number 123)\n",
    "# Output: 1 -> 2 -> 4 (represents the number 124)"
   ]
  },
  {
   "cell_type": "code",
   "execution_count": 26,
   "id": "f6d7893e",
   "metadata": {},
   "outputs": [
    {
     "name": "stdout",
     "output_type": "stream",
     "text": [
      "Input:\n",
      "1 -> 2 -> 3 -> None\n",
      "Output:\n",
      "1 -> 2 -> 4 -> None\n"
     ]
    }
   ],
   "source": [
    "class ListNode:\n",
    "    def __init__(self, val=0, next=None):\n",
    "        self.val = val\n",
    "        self.next = next\n",
    "\n",
    "def add_one_to_linked_list(head):\n",
    "    prev = None\n",
    "    current = head\n",
    "    while current:\n",
    "        temp = current.next\n",
    "        current.next = prev\n",
    "        prev = current\n",
    "        current = temp\n",
    "    head = prev\n",
    "\n",
    "    carry = 1\n",
    "    current = head\n",
    "    while current:\n",
    "        total = current.val + carry\n",
    "        current.val = total % 10\n",
    "        carry = total // 10\n",
    "        if not carry:\n",
    "            break\n",
    "        if not current.next:\n",
    "            current.next = ListNode(carry)\n",
    "            break\n",
    "        current = current.next\n",
    "\n",
    "    prev = None\n",
    "    current = head\n",
    "    while current:\n",
    "        temp = current.next\n",
    "        current.next = prev\n",
    "        prev = current\n",
    "        current = temp\n",
    "    head = prev\n",
    "\n",
    "    return head\n",
    "\n",
    "def print_linked_list(head):\n",
    "    current = head\n",
    "    while current:\n",
    "        print(current.val, end=\" -> \")\n",
    "        current = current.next\n",
    "    print(\"None\")\n",
    "\n",
    "head = ListNode(1)\n",
    "head.next = ListNode(2)\n",
    "head.next.next = ListNode(3)\n",
    "\n",
    "print(\"Input:\")\n",
    "print_linked_list(head)\n",
    "\n",
    "result = add_one_to_linked_list(head)\n",
    "\n",
    "print(\"Output:\")\n",
    "print_linked_list(result)\n"
   ]
  },
  {
   "cell_type": "code",
   "execution_count": 27,
   "id": "ca608ba6",
   "metadata": {},
   "outputs": [],
   "source": [
    "# 14: Given a sorted array and a target value, return the index if the target is found. If not, return the\n",
    "# index where it would be inserted.\n",
    "\n",
    "# Input: nums = [1, 3, 5, 6], target = 5\n",
    "# Output: 2"
   ]
  },
  {
   "cell_type": "code",
   "execution_count": 28,
   "id": "0304d5ff",
   "metadata": {},
   "outputs": [
    {
     "name": "stdout",
     "output_type": "stream",
     "text": [
      "Input: [1, 3, 5, 6] Target: 5\n",
      "Output: 2\n"
     ]
    }
   ],
   "source": [
    "def search_insert_position(nums, target):\n",
    "    left, right = 0, len(nums) - 1\n",
    "    \n",
    "    while left <= right:\n",
    "        mid = left + (right - left) // 2\n",
    "        if nums[mid] == target:\n",
    "            return mid\n",
    "        elif nums[mid] < target:\n",
    "            left = mid + 1\n",
    "        else:\n",
    "            right = mid - 1\n",
    "    \n",
    "    return left\n",
    "\n",
    "nums = [1, 3, 5, 6]\n",
    "target = 5\n",
    "print(\"Input:\", nums, \"Target:\", target)\n",
    "print(\"Output:\", search_insert_position(nums, target))\n"
   ]
  },
  {
   "cell_type": "code",
   "execution_count": 29,
   "id": "54a9cb27",
   "metadata": {},
   "outputs": [],
   "source": [
    "# 15: Find the minimum element in a rotated sorted array.\n",
    "    \n",
    "# Input: [4, 5, 6, 7, 0, 1, 2]\n",
    "# Output: 0"
   ]
  },
  {
   "cell_type": "code",
   "execution_count": 30,
   "id": "c5bb97af",
   "metadata": {},
   "outputs": [
    {
     "name": "stdout",
     "output_type": "stream",
     "text": [
      "Input: [4, 5, 6, 7, 0, 1, 2]\n",
      "Output: 0\n"
     ]
    }
   ],
   "source": [
    "def find_min_in_rotated_sorted_array(nums):\n",
    "    left, right = 0, len(nums) - 1\n",
    "    \n",
    "    while left < right:\n",
    "        mid = left + (right - left) // 2\n",
    "        \n",
    "        if nums[mid] > nums[right]:\n",
    "            left = mid + 1\n",
    "        else:\n",
    "            right = mid\n",
    "    \n",
    "    return nums[left]\n",
    "\n",
    "nums = [4, 5, 6, 7, 0, 1, 2]\n",
    "print(\"Input:\", nums)\n",
    "print(\"Output:\", find_min_in_rotated_sorted_array(nums))\n"
   ]
  },
  {
   "cell_type": "code",
   "execution_count": 31,
   "id": "6a3f7fd4",
   "metadata": {},
   "outputs": [],
   "source": [
    "# 16: Search for a target value in a rotated sorted array.\n",
    "    \n",
    "# Input: nums = [4, 5, 6, 7, 0, 1, 2], target = 0\n",
    "# Output: 4"
   ]
  },
  {
   "cell_type": "code",
   "execution_count": 32,
   "id": "c12755a6",
   "metadata": {},
   "outputs": [
    {
     "name": "stdout",
     "output_type": "stream",
     "text": [
      "Input: [4, 5, 6, 7, 0, 1, 2] Target: 0\n",
      "Output: 4\n"
     ]
    }
   ],
   "source": [
    "def search_in_rotated_sorted_array(nums, target):\n",
    "    left, right = 0, len(nums) - 1\n",
    "    \n",
    "    while left <= right:\n",
    "        mid = left + (right - left) // 2\n",
    "        \n",
    "        if nums[mid] == target:\n",
    "            return mid\n",
    "        \n",
    "        if nums[left] <= nums[mid]:\n",
    "            if nums[left] <= target < nums[mid]:\n",
    "                right = mid - 1\n",
    "            else:\n",
    "                left = mid + 1\n",
    "        else:\n",
    "            if nums[mid] < target <= nums[right]:\n",
    "                left = mid + 1\n",
    "            else:\n",
    "                right = mid - 1\n",
    "    \n",
    "    return -1\n",
    "\n",
    "nums = [4, 5, 6, 7, 0, 1, 2]\n",
    "target = 0\n",
    "print(\"Input:\", nums, \"Target:\", target)\n",
    "print(\"Output:\", search_in_rotated_sorted_array(nums, target))\n"
   ]
  },
  {
   "cell_type": "code",
   "execution_count": 33,
   "id": "9a8d71ab",
   "metadata": {},
   "outputs": [],
   "source": [
    "# 17: Find the peak element in an array. A peak element is greater than its neighbors.\n",
    "    \n",
    "# Input: nums = [1, 2, 3, 1]\n",
    "# Output: 2 (index of peak element)"
   ]
  },
  {
   "cell_type": "code",
   "execution_count": 34,
   "id": "347fffef",
   "metadata": {},
   "outputs": [
    {
     "name": "stdout",
     "output_type": "stream",
     "text": [
      "Input: [1, 2, 3, 1]\n",
      "Output: 2\n"
     ]
    }
   ],
   "source": [
    "def find_peak_element(nums):\n",
    "    left, right = 0, len(nums) - 1\n",
    "    \n",
    "    while left < right:\n",
    "        mid = left + (right - left) // 2\n",
    "        \n",
    "        if nums[mid] > nums[mid + 1]:\n",
    "            right = mid\n",
    "        else:\n",
    "            left = mid + 1\n",
    "    \n",
    "    return left\n",
    "\n",
    "nums = [1, 2, 3, 1]\n",
    "print(\"Input:\", nums)\n",
    "print(\"Output:\", find_peak_element(nums))\n"
   ]
  },
  {
   "cell_type": "code",
   "execution_count": 35,
   "id": "8e2d930f",
   "metadata": {},
   "outputs": [],
   "source": [
    "# 18: Given a m x n matrix where each row and column is sorted in ascending order, count the number\n",
    "# of negative numbers.\n",
    "\n",
    "# Input: grid = [[4, 3, 2, -1], [3, 2, 1, -1], [1, 1, -1, -2], [-1, -1, -2, -3]]\n",
    "# Output: 8"
   ]
  },
  {
   "cell_type": "code",
   "execution_count": 36,
   "id": "4f67d01c",
   "metadata": {},
   "outputs": [
    {
     "name": "stdout",
     "output_type": "stream",
     "text": [
      "Input:\n",
      "[4, 3, 2, -1]\n",
      "[3, 2, 1, -1]\n",
      "[1, 1, -1, -2]\n",
      "[-1, -1, -2, -3]\n",
      "Output: 8\n"
     ]
    }
   ],
   "source": [
    "def count_negatives(grid):\n",
    "    rows = len(grid)\n",
    "    cols = len(grid[0])\n",
    "    \n",
    "    row = 0\n",
    "    col = cols - 1\n",
    "    count = 0\n",
    "    \n",
    "    while row < rows and col >= 0:\n",
    "        if grid[row][col] < 0:\n",
    "            count += rows - row\n",
    "            col -= 1\n",
    "        else:\n",
    "            row += 1\n",
    "    \n",
    "    return count\n",
    "\n",
    "grid = [\n",
    "    [4, 3, 2, -1],\n",
    "    [3, 2, 1, -1],\n",
    "    [1, 1, -1, -2],\n",
    "    [-1, -1, -2, -3]\n",
    "]\n",
    "print(\"Input:\")\n",
    "for row in grid:\n",
    "    print(row)\n",
    "print(\"Output:\", count_negatives(grid))\n"
   ]
  },
  {
   "cell_type": "code",
   "execution_count": 37,
   "id": "7656eb4d",
   "metadata": {},
   "outputs": [],
   "source": [
    "# 19: Given a 2D matrix sorted in ascending order in each row, and the first integer of each row is\n",
    "# greater than the last integer of the previous row, determine if a target value is present in the matrix.\n",
    "\n",
    "# Input: matrix = [[1, 3, 5, 7], [10, 11, 16, 20], [23, 30, 34, 60]], target = 3\n",
    "# Output: True"
   ]
  },
  {
   "cell_type": "code",
   "execution_count": 38,
   "id": "86011fcf",
   "metadata": {},
   "outputs": [
    {
     "name": "stdout",
     "output_type": "stream",
     "text": [
      "Input:\n",
      "[1, 3, 5, 7]\n",
      "[10, 11, 16, 20]\n",
      "[23, 30, 34, 60]\n",
      "Target: 3\n",
      "Output: True\n"
     ]
    }
   ],
   "source": [
    "def search_matrix(matrix, target):\n",
    "    if not matrix:\n",
    "        return False\n",
    "    \n",
    "    rows = len(matrix)\n",
    "    cols = len(matrix[0])\n",
    "    \n",
    "    left, right = 0, rows * cols - 1\n",
    "    \n",
    "    while left <= right:\n",
    "        mid = left + (right - left) // 2\n",
    "        mid_element = matrix[mid // cols][mid % cols]\n",
    "        \n",
    "        if mid_element == target:\n",
    "            return True\n",
    "        elif mid_element < target:\n",
    "            left = mid + 1\n",
    "        else:\n",
    "            right = mid - 1\n",
    "    \n",
    "    return False\n",
    "\n",
    "matrix = [\n",
    "    [1, 3, 5, 7],\n",
    "    [10, 11, 16, 20],\n",
    "    [23, 30, 34, 60]\n",
    "]\n",
    "target = 3\n",
    "print(\"Input:\")\n",
    "for row in matrix:\n",
    "    print(row)\n",
    "print(\"Target:\", target)\n",
    "print(\"Output:\", search_matrix(matrix, target))\n"
   ]
  },
  {
   "cell_type": "code",
   "execution_count": 39,
   "id": "cf66f1a9",
   "metadata": {},
   "outputs": [],
   "source": [
    "# 20: Find Median in Two Sorted Arrays\n",
    "# Problem: Given two sorted arrays, find the median of the combined sorted array.\n",
    "    \n",
    "# Input: nums1 = [1, 3], nums2 = [2]\n",
    "# Output: 2.0"
   ]
  },
  {
   "cell_type": "code",
   "execution_count": 40,
   "id": "47e875c4",
   "metadata": {},
   "outputs": [
    {
     "name": "stdout",
     "output_type": "stream",
     "text": [
      "Input:\n",
      "nums1: [1, 3]\n",
      "nums2: [2]\n",
      "Output: 2\n"
     ]
    }
   ],
   "source": [
    "def findMedianSortedArrays(nums1, nums2):\n",
    "    merged = []\n",
    "    i, j = 0, 0\n",
    "    \n",
    "    while i < len(nums1) and j < len(nums2):\n",
    "        if nums1[i] < nums2[j]:\n",
    "            merged.append(nums1[i])\n",
    "            i += 1\n",
    "        else:\n",
    "            merged.append(nums2[j])\n",
    "            j += 1\n",
    "    \n",
    "    merged += nums1[i:]\n",
    "    merged += nums2[j:]\n",
    "    \n",
    "    total_length = len(merged)\n",
    "    if total_length % 2 == 0:\n",
    "        return (merged[total_length // 2 - 1] + merged[total_length // 2]) / 2\n",
    "    else:\n",
    "        return merged[total_length // 2]\n",
    "\n",
    "nums1 = [1, 3]\n",
    "nums2 = [2]\n",
    "print(\"Input:\")\n",
    "print(\"nums1:\", nums1)\n",
    "print(\"nums2:\", nums2)\n",
    "print(\"Output:\", findMedianSortedArrays(nums1, nums2))\n"
   ]
  },
  {
   "cell_type": "code",
   "execution_count": 41,
   "id": "e84a28d5",
   "metadata": {},
   "outputs": [],
   "source": [
    "# 21: Given a sorted character array and a target letter, find the smallest letter in the array that is\n",
    "# greater than the target.\n",
    "\n",
    "\n",
    "# Input: letters = ['c', 'f', 'j'], target = a\n",
    "# Output: 'c'"
   ]
  },
  {
   "cell_type": "code",
   "execution_count": 42,
   "id": "7ab76ba9",
   "metadata": {},
   "outputs": [
    {
     "name": "stdout",
     "output_type": "stream",
     "text": [
      "Input:\n",
      "letters: ['c', 'f', 'j']\n",
      "target: a\n",
      "Output: c\n"
     ]
    }
   ],
   "source": [
    "def nextGreatestLetter(letters, target):\n",
    "    left, right = 0, len(letters) - 1\n",
    "    \n",
    "    while left <= right:\n",
    "        mid = left + (right - left) // 2\n",
    "        \n",
    "        if letters[mid] <= target:\n",
    "            left = mid + 1\n",
    "        else:\n",
    "            right = mid - 1\n",
    "    \n",
    "    if left >= len(letters):\n",
    "        return letters[0]\n",
    "    else:\n",
    "        return letters[left]\n",
    "\n",
    "letters = ['c', 'f', 'j']\n",
    "target = 'a'\n",
    "print(\"Input:\")\n",
    "print(\"letters:\", letters)\n",
    "print(\"target:\", target)\n",
    "print(\"Output:\", nextGreatestLetter(letters, target))\n"
   ]
  },
  {
   "cell_type": "code",
   "execution_count": 43,
   "id": "efd0e7dd",
   "metadata": {},
   "outputs": [],
   "source": [
    "# 22: Given an array with n objects colored red, white, or blue, sort them in-place so that objects of\n",
    "# the same color are adjacent, with the colors in the order red, white, and blue.\n",
    "\n",
    "# Input: nums = [2, 0, 2, 1, 1, 0]\n",
    "# Output: [0, 0, 1, 1, 2, 2]"
   ]
  },
  {
   "cell_type": "code",
   "execution_count": 44,
   "id": "bf7f4c23",
   "metadata": {},
   "outputs": [
    {
     "name": "stdout",
     "output_type": "stream",
     "text": [
      "Input: [2, 0, 2, 1, 1, 0]\n",
      "Output: [0, 0, 1, 1, 2, 2]\n"
     ]
    }
   ],
   "source": [
    "def sortColors(nums):\n",
    "    red, white, blue = 0, 0, len(nums) - 1\n",
    "    \n",
    "    while white <= blue:\n",
    "        if nums[white] == 0:\n",
    "            nums[red], nums[white] = nums[white], nums[red]\n",
    "            red += 1\n",
    "            white += 1\n",
    "        elif nums[white] == 1:\n",
    "            white += 1\n",
    "        else:\n",
    "            nums[white], nums[blue] = nums[blue], nums[white]\n",
    "            blue -= 1\n",
    "    \n",
    "    return nums\n",
    "\n",
    "nums = [2, 0, 2, 1, 1, 0]\n",
    "print(\"Input:\", nums)\n",
    "print(\"Output:\", sortColors(nums))\n"
   ]
  },
  {
   "cell_type": "code",
   "execution_count": 45,
   "id": "7d2ce906",
   "metadata": {},
   "outputs": [],
   "source": [
    "# 23: Find the kth largest element in an unsorted array.\n",
    "    \n",
    "# Input: nums = [3, 2, 1, 5, 6, 4], k = 2\n",
    "# Output: 5"
   ]
  },
  {
   "cell_type": "code",
   "execution_count": 46,
   "id": "1eba0fef",
   "metadata": {},
   "outputs": [
    {
     "name": "stdout",
     "output_type": "stream",
     "text": [
      "Input: [3, 2, 1, 5, 6, 4] k: 2\n",
      "Output: 2\n"
     ]
    }
   ],
   "source": [
    "import random\n",
    "\n",
    "def findKthLargest(nums, k):\n",
    "    def partition(left, right, pivot_index):\n",
    "        pivot = nums[pivot_index]\n",
    "        nums[pivot_index], nums[right] = nums[right], nums[pivot_index]\n",
    "        \n",
    "        store_index = left\n",
    "        for i in range(left, right):\n",
    "            if nums[i] > pivot:\n",
    "                nums[store_index], nums[i] = nums[i], nums[store_index]\n",
    "                store_index += 1\n",
    "        \n",
    "        nums[right], nums[store_index] = nums[store_index], nums[right]\n",
    "        \n",
    "        return store_index\n",
    "    \n",
    "    def select(left, right, k_smallest):\n",
    "        if left == right:\n",
    "            return nums[left]\n",
    "        \n",
    "        pivot_index = random.randint(left, right)\n",
    "        pivot_index = partition(left, right, pivot_index)\n",
    "        \n",
    "        if k_smallest == pivot_index:\n",
    "            return nums[k_smallest]\n",
    "        elif k_smallest < pivot_index:\n",
    "            return select(left, pivot_index - 1, k_smallest)\n",
    "        else:\n",
    "            return select(pivot_index + 1, right, k_smallest)\n",
    "    \n",
    "    return select(0, len(nums) - 1, len(nums) - k)\n",
    "\n",
    "nums = [3, 2, 1, 5, 6, 4]\n",
    "k = 2\n",
    "print(\"Input:\", nums, \"k:\", k)\n",
    "print(\"Output:\", findKthLargest(nums, k))\n"
   ]
  },
  {
   "cell_type": "code",
   "execution_count": 47,
   "id": "87f758b8",
   "metadata": {},
   "outputs": [],
   "source": [
    "# 24: Given an unsorted array, reorder it in-place such that nums[0] <= nums[1] >= nums[2] <=\n",
    "# nums[3]...\n",
    "\n",
    "# Input: nums = [3, 5, 2, 1, 6, 4]\n",
    "# Output: [3, 5, 1, 6, 2, 4]"
   ]
  },
  {
   "cell_type": "code",
   "execution_count": 48,
   "id": "dcb22164",
   "metadata": {},
   "outputs": [
    {
     "name": "stdout",
     "output_type": "stream",
     "text": [
      "Input: [3, 5, 2, 1, 6, 4]\n",
      "Output: [1, 3, 2, 5, 4, 6]\n"
     ]
    }
   ],
   "source": [
    "def wiggleSort(nums):\n",
    "    nums.sort()  \n",
    "    for i in range(1, len(nums) - 1, 2):\n",
    "        nums[i], nums[i + 1] = nums[i + 1], nums[i]\n",
    "    return nums\n",
    "\n",
    "nums = [3, 5, 2, 1, 6, 4]\n",
    "print(\"Input:\", nums)\n",
    "print(\"Output:\", wiggleSort(nums))\n"
   ]
  },
  {
   "cell_type": "code",
   "execution_count": 49,
   "id": "4ff357ee",
   "metadata": {},
   "outputs": [],
   "source": [
    "# 25: Given an array of integers, calculate the sum of all its elements.\n",
    "    \n",
    "# Input: [1, 2, 3, 4, 5]\n",
    "# Output: 15"
   ]
  },
  {
   "cell_type": "code",
   "execution_count": 50,
   "id": "416fef7a",
   "metadata": {},
   "outputs": [
    {
     "name": "stdout",
     "output_type": "stream",
     "text": [
      "Input: [1, 2, 3, 4, 5]\n",
      "Output: 15\n"
     ]
    }
   ],
   "source": [
    "def calculate_sum(nums):\n",
    "    total_sum = 0\n",
    "    for num in nums:\n",
    "        total_sum += num\n",
    "    return total_sum\n",
    "\n",
    "nums = [1, 2, 3, 4, 5]\n",
    "print(\"Input:\", nums)\n",
    "print(\"Output:\", calculate_sum(nums))\n"
   ]
  },
  {
   "cell_type": "code",
   "execution_count": 51,
   "id": "8df08440",
   "metadata": {},
   "outputs": [],
   "source": [
    "# 26: Find the maximum element in an array of integers.\n",
    "    \n",
    "# Input: [3, 7, 2, 9, 4, 1]\n",
    "# Output: 9"
   ]
  },
  {
   "cell_type": "code",
   "execution_count": 52,
   "id": "3f11dfa7",
   "metadata": {},
   "outputs": [
    {
     "name": "stdout",
     "output_type": "stream",
     "text": [
      "Input: [3, 7, 2, 9, 4, 1]\n",
      "Output: 9\n"
     ]
    }
   ],
   "source": [
    "def find_maximum(nums):\n",
    "    if not nums:\n",
    "        return None\n",
    "    \n",
    "    max_element = nums[0]\n",
    "    for num in nums[1:]:\n",
    "        if num > max_element:\n",
    "            max_element = num\n",
    "    return max_element\n",
    "\n",
    "nums = [3, 7, 2, 9, 4, 1]\n",
    "print(\"Input:\", nums)\n",
    "print(\"Output:\", find_maximum(nums))\n"
   ]
  },
  {
   "cell_type": "code",
   "execution_count": 53,
   "id": "9ce2b9c8",
   "metadata": {},
   "outputs": [],
   "source": [
    "# 27: Implement linear search to find the index of a target element in an array.\n",
    "    \n",
    "# Input: [5, 3, 8, 2, 7, 4], target = 8\n",
    "# Output: 2"
   ]
  },
  {
   "cell_type": "code",
   "execution_count": 54,
   "id": "0416c58c",
   "metadata": {},
   "outputs": [
    {
     "name": "stdout",
     "output_type": "stream",
     "text": [
      "Input: [5, 3, 8, 2, 7, 4] Target: 8\n",
      "Output: 2\n"
     ]
    }
   ],
   "source": [
    "def linear_search(nums, target):\n",
    "    for i, num in enumerate(nums):\n",
    "        if num == target:\n",
    "            return i\n",
    "    return -1  \n",
    "\n",
    "nums = [5, 3, 8, 2, 7, 4]\n",
    "target = 8\n",
    "print(\"Input:\", nums, \"Target:\", target)\n",
    "print(\"Output:\", linear_search(nums, target))\n"
   ]
  },
  {
   "cell_type": "code",
   "execution_count": 55,
   "id": "a5b2b39a",
   "metadata": {},
   "outputs": [],
   "source": [
    "# 28 Calculate the factorial of a given number.\n",
    "\n",
    "# Input: 5\n",
    "# Output: 120 (as 5! = 5 * 4 * 3 * 2 * 1 = 120)"
   ]
  },
  {
   "cell_type": "code",
   "execution_count": 56,
   "id": "1b88068b",
   "metadata": {},
   "outputs": [
    {
     "name": "stdout",
     "output_type": "stream",
     "text": [
      "Input: 5\n",
      "Output: 120\n"
     ]
    }
   ],
   "source": [
    "def factorial(n):\n",
    "    result = 1\n",
    "    for i in range(1, n + 1):\n",
    "        result *= i\n",
    "    return result\n",
    "\n",
    "number = 5\n",
    "print(\"Input:\", number)\n",
    "print(\"Output:\", factorial(number))\n"
   ]
  },
  {
   "cell_type": "code",
   "execution_count": 57,
   "id": "e5e007bf",
   "metadata": {},
   "outputs": [],
   "source": [
    "# 29: Check if a given number is a prime number.\n",
    "    \n",
    "# Input: 7\n",
    "# Output: True"
   ]
  },
  {
   "cell_type": "code",
   "execution_count": 58,
   "id": "974c0551",
   "metadata": {},
   "outputs": [
    {
     "name": "stdout",
     "output_type": "stream",
     "text": [
      "Input: 7\n",
      "Output: True\n"
     ]
    }
   ],
   "source": [
    "import math\n",
    "\n",
    "def is_prime(n):\n",
    "    if n <= 1:\n",
    "        return False\n",
    "    if n <= 3:\n",
    "        return True\n",
    "\n",
    "    for i in range(2, int(math.sqrt(n)) + 1):\n",
    "        if n % i == 0:\n",
    "            return False\n",
    "    return True\n",
    "\n",
    "number = 7\n",
    "print(\"Input:\", number)\n",
    "print(\"Output:\", is_prime(number))\n"
   ]
  },
  {
   "cell_type": "code",
   "execution_count": 59,
   "id": "b6ccc117",
   "metadata": {},
   "outputs": [],
   "source": [
    "# 30: Generate the Fibonacci series up to a given number n.\n",
    "    \n",
    "# Input: 8\n",
    "# Output: [0, 1, 1, 2, 3, 5, 8, 13]"
   ]
  },
  {
   "cell_type": "code",
   "execution_count": 60,
   "id": "b040a3d7",
   "metadata": {},
   "outputs": [
    {
     "name": "stdout",
     "output_type": "stream",
     "text": [
      "Input: 8\n",
      "Output: [0, 1, 1, 2, 3, 5, 8]\n"
     ]
    }
   ],
   "source": [
    "def generate_fibonacci_series(n):\n",
    "    fibonacci_series = [0, 1]\n",
    "    while fibonacci_series[-1] + fibonacci_series[-2] <= n:\n",
    "        fibonacci_series.append(fibonacci_series[-1] + fibonacci_series[-2])\n",
    "    return fibonacci_series\n",
    "\n",
    "number = 8\n",
    "print(\"Input:\", number)\n",
    "print(\"Output:\", generate_fibonacci_series(number))\n"
   ]
  },
  {
   "cell_type": "code",
   "execution_count": 61,
   "id": "40a17126",
   "metadata": {},
   "outputs": [],
   "source": [
    "# 31: Calculate the power of a number using recursion.\n",
    "    \n",
    "# Input: base = 3, exponent = 4\n",
    "# Output: 81 (as 3^4 = 3 * 3 * 3 * 3 = 81)"
   ]
  },
  {
   "cell_type": "code",
   "execution_count": 62,
   "id": "b5209e75",
   "metadata": {},
   "outputs": [
    {
     "name": "stdout",
     "output_type": "stream",
     "text": [
      "Input: base = 3 , exponent = 4\n",
      "Output: 81\n"
     ]
    }
   ],
   "source": [
    "def power(base, exponent):\n",
    "    if exponent == 0:\n",
    "        return 1\n",
    "    elif exponent == 1:\n",
    "        return base\n",
    "    else:\n",
    "        return base * power(base, exponent - 1)\n",
    "\n",
    "base = 3\n",
    "exponent = 4\n",
    "print(\"Input: base =\", base, \", exponent =\", exponent)\n",
    "print(\"Output:\", power(base, exponent))\n"
   ]
  },
  {
   "cell_type": "code",
   "execution_count": 63,
   "id": "c93e7547",
   "metadata": {},
   "outputs": [],
   "source": [
    "# 32: Reverse a given string.\n",
    "    \n",
    "# Input: \"hello\"\n",
    "# Output: \"olleh\""
   ]
  },
  {
   "cell_type": "code",
   "execution_count": 64,
   "id": "2394c1ac",
   "metadata": {},
   "outputs": [
    {
     "name": "stdout",
     "output_type": "stream",
     "text": [
      "Input: hello\n",
      "Output: olleh\n"
     ]
    }
   ],
   "source": [
    "def reverse_string(s):\n",
    "    return s[::-1]\n",
    "\n",
    "input_str = \"hello\"\n",
    "print(\"Input:\", input_str)\n",
    "print(\"Output:\", reverse_string(input_str))\n"
   ]
  }
 ],
 "metadata": {
  "kernelspec": {
   "display_name": "Python 3 (ipykernel)",
   "language": "python",
   "name": "python3"
  },
  "language_info": {
   "codemirror_mode": {
    "name": "ipython",
    "version": 3
   },
   "file_extension": ".py",
   "mimetype": "text/x-python",
   "name": "python",
   "nbconvert_exporter": "python",
   "pygments_lexer": "ipython3",
   "version": "3.11.7"
  }
 },
 "nbformat": 4,
 "nbformat_minor": 5
}
